{
  "nbformat": 4,
  "nbformat_minor": 0,
  "metadata": {
    "colab": {
      "provenance": [],
      "authorship_tag": "ABX9TyO1ALBFs03cRJjTpCvw+6rk",
      "include_colab_link": true
    },
    "kernelspec": {
      "name": "python3",
      "display_name": "Python 3"
    },
    "language_info": {
      "name": "python"
    }
  },
  "cells": [
    {
      "cell_type": "markdown",
      "metadata": {
        "id": "view-in-github",
        "colab_type": "text"
      },
      "source": [
        "<a href=\"https://colab.research.google.com/github/Tatiana164/Univercity-/blob/main/ExtraTasks/%D0%94%D0%BE%D0%BF%D0%97%D0%B0%D0%B4%D0%B0%D0%BD%D0%B8%D0%B51.ipynb\" target=\"_parent\"><img src=\"https://colab.research.google.com/assets/colab-badge.svg\" alt=\"Open In Colab\"/></a>"
      ]
    },
    {
      "cell_type": "code",
      "execution_count": null,
      "metadata": {
        "id": "2ba8Wd5S7WJJ"
      },
      "outputs": [],
      "source": [
        "import random\n",
        "\n",
        "answ, cnt = random.randint(0, 100), 0\n",
        "print(f'Компьютер загадал число! {answ}')\n",
        "\n",
        "while True:\n",
        "\n",
        "  us_answ = input('Введите число : ')\n",
        "\n",
        "  if (us_answ.lower() == 'выход'):\n",
        "    break\n",
        "\n",
        "  elif not (us_answ.isdigit()):\n",
        "    print('Ошибка!')\n",
        "    continue\n",
        "\n",
        "  us_answ = int(us_answ)\n",
        "  cnt += 1\n",
        "\n",
        "  if answ < us_answ:\n",
        "    print('Ваше число больше загаданного. Попробуйте ещё раз :)')\n",
        "  elif answ > us_answ:\n",
        "    print('Ваше число меньше загаданного. Попробуйте ещё раз :)')\n",
        "  else:\n",
        "    print('Вы угадали число!')\n",
        "    print(f'Вам потребовалось {cnt} попыток.')\n",
        "    break"
      ]
    }
  ]
}