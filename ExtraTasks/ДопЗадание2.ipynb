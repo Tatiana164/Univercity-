{
  "nbformat": 4,
  "nbformat_minor": 0,
  "metadata": {
    "colab": {
      "provenance": [],
      "authorship_tag": "ABX9TyM3WKhBkaqRvA8uqrMNAH88",
      "include_colab_link": true
    },
    "kernelspec": {
      "name": "python3",
      "display_name": "Python 3"
    },
    "language_info": {
      "name": "python"
    }
  },
  "cells": [
    {
      "cell_type": "markdown",
      "metadata": {
        "id": "view-in-github",
        "colab_type": "text"
      },
      "source": [
        "<a href=\"https://colab.research.google.com/github/Tatiana164/Univercity-/blob/main/ExtraTasks/%D0%94%D0%BE%D0%BF%D0%97%D0%B0%D0%B4%D0%B0%D0%BD%D0%B8%D0%B52.ipynb\" target=\"_parent\"><img src=\"https://colab.research.google.com/assets/colab-badge.svg\" alt=\"Open In Colab\"/></a>"
      ]
    },
    {
      "cell_type": "code",
      "execution_count": null,
      "metadata": {
        "id": "axC6DCnNQiI-"
      },
      "outputs": [],
      "source": [
        "def standartize_name():\n",
        "  return name.title()\n",
        "\n",
        "def standartize_phone(phone):\n",
        "      phone_digits=''.join(char for char in phone if char.isdigit())\n",
        "      if len (phone_digits)==10:\n",
        "        return '+7' + phone_digits\n",
        "      elif len (phone_digits)==11:\n",
        "        return '+7' + phone_digits[1:]\n",
        "\n",
        "def add_contact(phone_book):\n",
        "        name=input('Введите имя коьнтакта:')\n",
        "        phone=input('Введите номер контакта')\n",
        "        standartize_name=standartize_name(name)\n",
        "        standartize_phone=standartize_name(phone)\n",
        "\n",
        "        new_phone_book=phone_book.copy()\n",
        "def delete_contact():\n",
        "\n",
        "\n",
        "\n",
        "def menu():\n",
        "  phone_book={}\n",
        "  while True:\n",
        "    print(\"\\nВыберите функцию:\")\n",
        "    print(\"1. Добавьте контакт:\")\n",
        "    print(\"3. :\")\n",
        "    print(\"4. Изменить номер:\")\n",
        "    print(\"5. Выход:\")\n",
        "    choice=input(\"Введите номер функции:\")\n",
        "    if choice==\"1\":\n",
        "      phone_book=add_contact(phone_book)\n",
        "    elif choice==\"2\":\n",
        "      phone_book=add_contact(phone_book)\n",
        "    elif choice==\"3\":\n",
        "      phone_book=add_contact(phone_book)\n",
        "    elif choice==\"4\":\n",
        "      phone_book=add_contact(phone_book)\n",
        "    elif choice==\"5\":\n",
        "      print(\"Выход из программы\")"
      ]
    }
  ]
}