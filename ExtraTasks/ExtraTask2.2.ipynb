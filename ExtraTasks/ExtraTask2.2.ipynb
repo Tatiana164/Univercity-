{
  "nbformat": 4,
  "nbformat_minor": 0,
  "metadata": {
    "colab": {
      "provenance": [],
      "include_colab_link": true
    },
    "kernelspec": {
      "name": "python3",
      "display_name": "Python 3"
    },
    "language_info": {
      "name": "python"
    }
  },
  "cells": [
    {
      "cell_type": "markdown",
      "metadata": {
        "id": "view-in-github",
        "colab_type": "text"
      },
      "source": [
        "<a href=\"https://colab.research.google.com/github/Tatiana164/Univercity-/blob/main/ExtraTask2.2/ExtraTasks.ipynb\" target=\"_parent\"><img src=\"https://colab.research.google.com/assets/colab-badge.svg\" alt=\"Open In Colab\"/></a>"
      ]
    },
    {
      "cell_type": "markdown",
      "source": [
        "# **Дополнительное задание №2.2. Замыкания. Декораторы. Итераторы. Генераторы**"
      ],
      "metadata": {
        "id": "AFKOdzjAKWYc"
      }
    },
    {
      "cell_type": "markdown",
      "source": [
        "**БАЗА:**\n",
        "\n",
        "- **Замыкания** позволяют создавать функции с сохраняющимся состоянием. Это полезно для создания фабричных функций и функций с настраиваемым поведением.\n",
        "- **Декораторы** позволяют модифицировать или расширять поведение функций без изменения их исходного кода."
      ],
      "metadata": {
        "id": "nBwTqfsSyaGg"
      }
    },
    {
      "cell_type": "markdown",
      "source": [
        "---"
      ],
      "metadata": {
        "id": "2VnR8e3twGfD"
      }
    },
    {
      "cell_type": "markdown",
      "source": [
        "## **I. Замыкания и декораторы**"
      ],
      "metadata": {
        "id": "_ZPLUks08b1-"
      }
    },
    {
      "cell_type": "markdown",
      "metadata": {
        "id": "eVsLMeozyshu"
      },
      "source": [
        "### **Пункт №1**\n",
        "\n",
        "Напишите две функции создания списка из чётных чисел от 0 до N (N – аргумент функции): \\([0, 2, 4, ..., N]\\).\n",
        "\n",
        "- **Первая функция** должна использовать метод `append` для добавления элементов в список.\n",
        "- **Вторая функция** должна использовать **генератор списков** (list comprehensions) для создания списка.\n",
        "\n",
        "После этого, через **декоратор**, определите время работы этих функций."
      ]
    },
    {
      "cell_type": "code",
      "source": [
        "import time\n",
        "def get_time(fn):\n",
        "  def inner(*args):\n",
        "    st_time = time.time()\n",
        "    res = fn(*args)\n",
        "    print(f'Время выполнения: {time.time() - st_time:.6f} секунд')\n",
        "    return res\n",
        "  return inner\n",
        "@get_time\n",
        "def append_fn(N):\n",
        "  array = []\n",
        "  for digit in range(0, N, 2):\n",
        "    array.append(digit)\n",
        "  return array\n",
        "@get_time\n",
        "def gener_fn(N):\n",
        "  return [value for value in range(0, N, 2)]\n",
        "print(append_fn(10))\n",
        "print(gener_fn(10))"
      ],
      "metadata": {
        "id": "04AwDHUyZe6F"
      },
      "execution_count": null,
      "outputs": []
    },
    {
      "cell_type": "markdown",
      "source": [
        "---"
      ],
      "metadata": {
        "id": "_0Jy4QhEwGDd"
      }
    },
    {
      "cell_type": "markdown",
      "source": [
        "### **Пункт №2**\n",
        "\n",
        "Напишите **декоратор** для кэширования результатов работы функции, вычисляющей значение n-го числа [**ряда Фибоначчи**](https://ru.wikipedia.org/wiki/Числа_Фибоначчи).\n",
        "\n",
        "То есть, при повторном вызове функции через декоратор уже имеющийся результат должен браться из кэша, а не вычисляться заново.\n",
        "\n",
        "**Например:**\n",
        "\n",
        "- При значении параметра `n = 5`, должна кэшироваться последовательность \\([0, 1, 1, 2, 3, 5]\\).\n",
        "- Вызывая после этого целевую функцию через декоратор ещё раз с `n = 3`, результат \\([0, 1, 1, 2]\\) должен браться из кэша.\n",
        "- Если последующее значение `n` больше предыдущего, например `n = 10`, вычисление должно продолжаться, начиная с закэшированной последовательности.\n",
        "\n",
        "*Подсказка: используйте **замыкание** для хранения кэша внутри декоратора.*\n"
      ],
      "metadata": {
        "id": "DfDtOSmDl7ic"
      }
    },
    {
      "cell_type": "code",
      "source": [
        "def fib_cache(fn):\n",
        "  cache = {}\n",
        "  def inner(n):\n",
        "    if n in cache:\n",
        "      return cache[n]\n",
        "    result = fn(n)\n",
        "    for i in range(len(cache), n + 1):\n",
        "      cache[i] = fn(i)\n",
        "    return cache[n]\n",
        "  return inner\n",
        "@fib_cache\n",
        "def fib(n):\n",
        "  if n == 0:\n",
        "    return 0\n",
        "  elif n == 1:\n",
        "    return 1\n",
        "  else:\n",
        "    return fib(n - 1) + fib(n - 2)\n",
        "def fib_seq(n):\n",
        "  return [fib(i) for i in range(n)]\n",
        "print(fib_seq(13))\n",
        "print(f'Кэшировано: {fib(5)}')\n",
        "print(f'Кэшировано: {fib(3)}')\n",
        "print(f'Кэшировано: {fib(10)}')"
      ],
      "metadata": {
        "id": "CtbbsIBsZfHB"
      },
      "execution_count": null,
      "outputs": []
    },
    {
      "cell_type": "markdown",
      "source": [
        "---"
      ],
      "metadata": {
        "id": "CIiq8lr7wFkS"
      }
    },
    {
      "cell_type": "markdown",
      "source": [
        "### **Пункт №3**\n",
        "\n",
        "Примените к функции из задания №2 сразу **два декоратора**:\n",
        "\n",
        "1. **Декоратор**, определяющий время выполнения функции.\n",
        "2. **Кэширующий декоратор** (из задания №2).\n",
        "\n",
        "Сравните время работы функции с использованием кэширования и без него.\n"
      ],
      "metadata": {
        "id": "zY5zVHuifDve"
      }
    },
    {
      "cell_type": "code",
      "source": [
        "import time\n",
        "def testTime(fn):\n",
        "  def inner(*args, **kwargs):\n",
        "    start_time = time.time()\n",
        "    res = fn(*args, **kwargs)\n",
        "    end_time = time.time()\n",
        "    print(f'Время работы: {end_time - start_time:.6f} секунд')\n",
        "    return res\n",
        "  return inner\n",
        "def fib_cache(fn):\n",
        "  cache = {}\n",
        "  def inner(n):\n",
        "    if n in cache:\n",
        "      return cache[n]\n",
        "    res = fn(n)\n",
        "    cache[n] = res\n",
        "    return res\n",
        "  return inner\n",
        "@testTime\n",
        "def fib_no_cache(n):\n",
        "  res = []\n",
        "  a, b = 0, 1\n",
        "  for _ in range(n):\n",
        "    res.append(a)\n",
        "    a, b = b, a + b\n",
        "  return res\n",
        "@testTime\n",
        "@fib_cache\n",
        "def fib_with_cache(n):\n",
        "  res = []\n",
        "  a, b = 0, 1\n",
        "  for _ in range(n):\n",
        "    res.append(a)\n",
        "    a, b = b, a + b\n",
        "  return res\n",
        "print('Без кэша:')\n",
        "print(fib_no_cache(30))\n",
        "print('\\nС кэшем:')\n",
        "print(fib_with_cache(30))"
      ],
      "metadata": {
        "id": "dXuu8LJgg-0r"
      },
      "execution_count": null,
      "outputs": []
    },
    {
      "cell_type": "markdown",
      "source": [
        "---"
      ],
      "metadata": {
        "id": "fsSegPodwEwZ"
      }
    },
    {
      "cell_type": "markdown",
      "source": [
        "### **Пункт №4**\n",
        "\n",
        "Создайте функцию **make_multiplier(n)**, которая принимает число **n** и возвращает функцию, умножающую переданное ей число на **n**.\n",
        "\n",
        "**Пример использования:**\n",
        "\n",
        "```python\n",
        "def make_multiplier(n):\n",
        "    # Ваш код\n",
        "\n",
        "times3 = make_multiplier(3)\n",
        "print(times3(5))  # Вывод: 15\n",
        "```"
      ],
      "metadata": {
        "id": "Ap04UA6ZtoK1"
      }
    },
    {
      "cell_type": "code",
      "source": [
        "def make_multiplier(n):\n",
        "  def inner(value):\n",
        "    return n * value\n",
        "  return inner\n",
        "times3 = make_multiplier(3)\n",
        "print(times3(5))"
      ],
      "metadata": {
        "id": "HasdSjestowl"
      },
      "execution_count": null,
      "outputs": []
    },
    {
      "cell_type": "markdown",
      "source": [
        "---"
      ],
      "metadata": {
        "id": "MIPkER_LwD_0"
      }
    },
    {
      "cell_type": "markdown",
      "source": [
        "### **Пункт №5**\n",
        "\n",
        "Реализуйте функцию с замыканием, которая настраивает округление чисел до заданного количества знаков после запятой.\n",
        "\n",
        "**Пример:**\n",
        "\n",
        "```python\n",
        "def rounder(n):\n",
        "    # Ваш код\n",
        "\n",
        "round_to_2 = rounder(2)\n",
        "print(round_to_2(3.14159))  # Вывод: 3.14\n",
        "```\n"
      ],
      "metadata": {
        "id": "mTwh5dIqto8N"
      }
    },
    {
      "cell_type": "code",
      "source": [
        "def rounder(n):\n",
        "  def inner(value):\n",
        "    return round(value, n)\n",
        "  return inner\n",
        "round_to_2 = rounder(2)\n",
        "print(round_to_2(3.14159))\n",
        "round_to_3 = rounder(3)\n",
        "print(round_to_3(3.14159))\n",
        "round_to_4 = rounder(4)\n",
        "print(round_to_4(3.14159))"
      ],
      "metadata": {
        "id": "zjlE-viztpDo"
      },
      "execution_count": null,
      "outputs": []
    },
    {
      "cell_type": "markdown",
      "source": [
        "---"
      ],
      "metadata": {
        "id": "6u2MeXBiwAyf"
      }
    },
    {
      "cell_type": "markdown",
      "source": [
        "### **Пункт №6**\n",
        "\n",
        "Напишите **декоратор**, который измеряет время исполнения функции и выводит его на экран, только если время превышает определённый порог.\n",
        "\n",
        "**Пример:**\n",
        "\n",
        "```python\n",
        "@time_threshold(threshold=0.5)\n",
        "def long_running_function():\n",
        "    # Долгий код\n",
        "\n",
        "long_running_function()\n",
        "# Выводится время выполнения только если оно больше 0.5 секунд\n",
        "```"
      ],
      "metadata": {
        "id": "i5A4zQl5tpKJ"
      }
    },
    {
      "cell_type": "code",
      "source": [
        "import time\n",
        "def time_threshold(threshold):\n",
        "  def inner(fn):\n",
        "    def in_inner(*args):\n",
        "      st = time.time()\n",
        "      res = fn(*args)\n",
        "      itogo_time = time.time()-st\n",
        "      if itogo_time > threshold:\n",
        "        print(f'Функция работала: {itogo_time:.6f} секунд.')\n",
        "      else:\n",
        "        print(f'Функция работала мало.')\n",
        "      return res\n",
        "    return in_inner\n",
        "  return inner\n",
        "@time_threshold(0.5)\n",
        "def long_run_fn(n):\n",
        "  cnt = 0\n",
        "  while cnt != n:\n",
        "    cnt += 1\n",
        "  return cnt\n",
        "long_run_fn(78536492)\n",
        "long_run_fn(1)"
      ],
      "metadata": {
        "id": "LMGleXaetpP6"
      },
      "execution_count": null,
      "outputs": []
    },
    {
      "cell_type": "markdown",
      "source": [
        "---"
      ],
      "metadata": {
        "id": "Ag0rUJm-wIK1"
      }
    },
    {
      "cell_type": "markdown",
      "source": [
        "## **II. Итераторы и генераторы**"
      ],
      "metadata": {
        "id": "tu5ZanR_8j_R"
      }
    },
    {
      "cell_type": "markdown",
      "source": [
        "---\n",
        "\n",
        "### **Пункт №1. Генератор строк фиксированной длины**\n",
        "\n",
        "Напишите генератор `string_generator(char, times)`, который генерирует строки, состоящие из символа `char`, повторенного от 1 до `times` раз.\n",
        "\n",
        "```python\n",
        "# Пример использования:\n",
        "for s in string_generator('*', 5):\n",
        "    print(s)\n",
        "# Вывод:\n",
        "# *\n",
        "# **\n",
        "# ***\n",
        "# ****\n",
        "# *****\n",
        "```\n",
        "\n"
      ],
      "metadata": {
        "id": "7KQ8huR-8C_4"
      }
    },
    {
      "cell_type": "markdown",
      "source": [
        "---"
      ],
      "metadata": {
        "id": "ktfqCVPY-Mlx"
      }
    },
    {
      "cell_type": "code",
      "source": [
        "def string_generator(value, times):\n",
        "  string = value\n",
        "  for _ in range(times):\n",
        "    yield string\n",
        "    string += value\n",
        "for s in string_generator('*', 5):\n",
        "    print(s)"
      ],
      "metadata": {
        "id": "uvI-Ebqu98bW"
      },
      "execution_count": null,
      "outputs": []
    },
    {
      "cell_type": "markdown",
      "source": [
        "---\n",
        "\n",
        "### **Пункт №2. Генератор бесконечной последовательности**\n",
        "\n",
        "Создайте бесконечный генератор `infinite_sequence()`, который с каждым вызовом возвращает следующее число, начиная с 1.\n",
        "\n",
        "```python\n",
        "# Пример использования:\n",
        "gen = infinite_sequence()\n",
        "for _ in range(5):\n",
        "    print(next(gen))\n",
        "# Вывод:\n",
        "# 1\n",
        "# 2\n",
        "# 3\n",
        "# 4\n",
        "# 5\n",
        "```\n",
        "\n",
        "---"
      ],
      "metadata": {
        "id": "zDtiD8Rl9Oqu"
      }
    },
    {
      "cell_type": "code",
      "source": [
        "def infinite_sequence(start=1):\n",
        "  while True:\n",
        "    yield start\n",
        "    start += 1\n",
        "gen = infinite_sequence()\n",
        "for _ in range(5):\n",
        "  print(next(gen))"
      ],
      "metadata": {
        "id": "Yotj0YMK-Avy"
      },
      "execution_count": null,
      "outputs": []
    },
    {
      "cell_type": "markdown",
      "source": [
        "---\n",
        "\n",
        "### **Пункт №3. Генератор комбинированных списков**\n",
        "\n",
        "Создайте генератор `combined_lists(lst1, lst2)`, который попеременно возвращает элементы из `lst1` и `lst2`. Если длины списков неравны, генератор должен остановиться при исчерпании более короткого списка.\n",
        "\n",
        "```python\n",
        "# Пример использования:\n",
        "for item in combined_lists([1, 2, 3], ['a', 'b', 'c', 'd']):\n",
        "    print(item)\n",
        "# Вывод:\n",
        "# 1\n",
        "# 'a'\n",
        "# 2\n",
        "# 'b'\n",
        "# 3\n",
        "# 'c'\n",
        "```"
      ],
      "metadata": {
        "id": "rJQEC1n19KHE"
      }
    },
    {
      "cell_type": "markdown",
      "source": [
        "---"
      ],
      "metadata": {
        "id": "1h8fsmju-LQh"
      }
    },
    {
      "cell_type": "code",
      "source": [
        "def combined_lists(lst1, lst2):\n",
        "  for a, b in zip(lst1, lst2):\n",
        "    yield a\n",
        "    yield b\n",
        "for item in combined_lists([1, 2, 3], ['a', 'b', 'c', 'd']):\n",
        "  print(item)"
      ],
      "metadata": {
        "id": "_kcrlmgU-Bmz"
      },
      "execution_count": null,
      "outputs": []
    },
    {
      "cell_type": "markdown",
      "source": [
        "---\n",
        "\n",
        "### **Пункт №4. Генератор перевернутой строки**\n",
        "\n",
        "Напишите генератор `reverse_string(s)`, который при каждом вызове возвращает следующий символ строки `s` в обратном порядке.\n",
        "\n",
        "```python\n",
        "# Пример использования:\n",
        "for char in reverse_string('hello'):\n",
        "    print(char)\n",
        "# Вывод:\n",
        "# o\n",
        "# l\n",
        "# l\n",
        "# e\n",
        "# h\n",
        "```"
      ],
      "metadata": {
        "id": "CEXaNzJX9B1D"
      }
    },
    {
      "cell_type": "markdown",
      "source": [
        "---"
      ],
      "metadata": {
        "id": "L9WQ5Jpq-JaO"
      }
    },
    {
      "cell_type": "code",
      "source": [
        "def reverse_string(s):\n",
        "  for char in reversed(s):\n",
        "    yield char\n",
        "for char in reverse_string('hello'):\n",
        "  print(char)"
      ],
      "metadata": {
        "id": "5w9xT0eR-CBf"
      },
      "execution_count": null,
      "outputs": []
    },
    {
      "cell_type": "markdown",
      "source": [
        "---\n",
        "\n",
        "### **Пункт №5. Генератор степеней двойки**\n",
        "\n",
        "Создайте генератор `powers_of_two(n)`, который возвращает степени двойки от 2^0 до 2^n.\n",
        "\n",
        "```python\n",
        "# Пример использования:\n",
        "for num in powers_of_two(5):\n",
        "    print(num)\n",
        "# Вывод:\n",
        "# 1  # 2^0\n",
        "# 2  # 2^1\n",
        "# 4  # 2^2\n",
        "# 8  # 2^3\n",
        "# 16 # 2^4\n",
        "# 32 # 2^5\n",
        "```\n",
        "\n",
        "---"
      ],
      "metadata": {
        "id": "GNykcs8D8-Je"
      }
    },
    {
      "cell_type": "code",
      "source": [
        "def powers_of_two(n):\n",
        "  for i in range(n + 1):\n",
        "    yield 2 ** i\n",
        "for num in powers_of_two(5):\n",
        "  print(num)"
      ],
      "metadata": {
        "id": "LjNW3m-y-CXj"
      },
      "execution_count": null,
      "outputs": []
    },
    {
      "cell_type": "markdown",
      "source": [
        "---"
      ],
      "metadata": {
        "id": "OU71icWn-Ggg"
      }
    },
    {
      "cell_type": "markdown",
      "source": [
        "### **Пункт №6. Генератор чисел из строки**\n",
        "\n",
        "Напишите генератор `number_extractor(s)`, который извлекает числа из заданной строки `s` и возвращает их как целые числа.\n",
        "\n",
        "```python\n",
        "# Пример использования:\n",
        "for num in number_extractor('abc123def45gh6'):\n",
        "    print(num)\n",
        "# Вывод:\n",
        "# 123\n",
        "# 45\n",
        "# 6\n",
        "```"
      ],
      "metadata": {
        "id": "w5gcNZCM829V"
      }
    },
    {
      "cell_type": "markdown",
      "source": [
        "---"
      ],
      "metadata": {
        "id": "oJt2kxt8-FUP"
      }
    },
    {
      "cell_type": "code",
      "source": [
        "def number_extractor(string):\n",
        "  for sim in string:\n",
        "        if not sim.isdigit():\n",
        "          string = string.replace(sim, ' ')\n",
        "  l = string.split()\n",
        "  for sim in l:\n",
        "    yield sim\n",
        "for num in number_extractor('abc123def45gh6'):\n",
        "  print(num)"
      ],
      "metadata": {
        "id": "zDYVvuBX-C9M"
      },
      "execution_count": null,
      "outputs": []
    },
    {
      "cell_type": "markdown",
      "source": [
        "---"
      ],
      "metadata": {
        "id": "h6ztzyUn-D5n"
      }
    }
  ]
}